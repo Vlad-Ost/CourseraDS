{
 "cells": [
  {
   "cell_type": "markdown",
   "id": "4df7711c-af0c-47df-a03b-e59d6739db05",
   "metadata": {},
   "source": [
    "# Data Science Tools and Ecosystem"
   ]
  },
  {
   "cell_type": "markdown",
   "id": "87c3f598-74ee-4dda-9fd2-f3ec175c7723",
   "metadata": {},
   "source": [
    "## In this notebook, Data Science Tools and Ecosystem are summarized"
   ]
  },
  {
   "cell_type": "markdown",
   "id": "f09f5c75-b192-4b7c-b873-0a043ec23efe",
   "metadata": {},
   "source": [
    "__Objectives:__\n",
    "* List popular languages for Data Science\n",
    "* List commonly used libraries for Data Scientists\n",
    "* List some Data Science Tools\n",
    "* Evaluate arithmetic opearations in Pithon"
   ]
  },
  {
   "cell_type": "markdown",
   "id": "ef676496-570c-4149-a868-8f0224664de2",
   "metadata": {},
   "source": [
    "### Some of the popular languages that Data Scientists use are:\n",
    "1. Apache\n",
    "2. Julia\n",
    "3. R\n",
    "4. Swift"
   ]
  },
  {
   "cell_type": "markdown",
   "id": "540c9fd1-7a45-4739-ab05-9f765203d790",
   "metadata": {},
   "source": [
    "### Some of the commonly used libraries used by Data Scientists include:\n",
    "1. NumPy\n",
    "2. Pandas\n",
    "3. Matplotlib\n",
    "4. Plotly\n",
    "5. scikit-learn"
   ]
  },
  {
   "cell_type": "markdown",
   "id": "186b7076-6620-4425-9425-570656134d9b",
   "metadata": {},
   "source": [
    "|Data Science Tools|\n",
    "|-----|\n",
    "|JupyterLab|\n",
    "|RStudio|\n",
    "|VS Code|"
   ]
  },
  {
   "cell_type": "markdown",
   "id": "7f92099e-7d2e-4732-ada5-199095571d31",
   "metadata": {
    "tags": []
   },
   "source": [
    "### Below are a few examples of evaluating arithmetic expressions in Python\n",
    "a=150\n",
    "b=30\n",
    "c=12\n",
    "print(\"Difference between b and a is:\",b-a)\n",
    "print(\"Product of b and c is:\",b*c)\n",
    "print(\"Division of b by c is:\",a/c)\n",
    "print(\"Sum of a and b and c is:\",a+b+c)\n",
    "2**3 #two to the power three"
   ]
  },
  {
   "cell_type": "code",
   "execution_count": 26,
   "id": "66b5ec2c-97af-4cb0-924c-b917c3c5b90d",
   "metadata": {
    "tags": []
   },
   "outputs": [
    {
     "data": {
      "text/plain": [
       "17"
      ]
     },
     "execution_count": 26,
     "metadata": {},
     "output_type": "execute_result"
    }
   ],
   "source": [
    "# This a simple arithmetic expression to mutiply then add integers\n",
    "(3*4)+5"
   ]
  },
  {
   "cell_type": "code",
   "execution_count": 25,
   "id": "100623f1-b60b-432b-856e-bf2317bae7d9",
   "metadata": {
    "tags": []
   },
   "outputs": [
    {
     "data": {
      "text/plain": [
       "3.3333333333333335"
      ]
     },
     "execution_count": 25,
     "metadata": {},
     "output_type": "execute_result"
    }
   ],
   "source": [
    "# This will convert 200 minutes into hours by dividing by 60:\n",
    "200/60    "
   ]
  },
  {
   "cell_type": "markdown",
   "id": "038356dc-8ebb-4fda-9158-745623ba8e3a",
   "metadata": {},
   "source": [
    "## Author\n",
    "Vlad Ostapenko"
   ]
  },
  {
   "cell_type": "code",
   "execution_count": null,
   "id": "8f91df4b-48ce-46bf-9c14-661c2e60d73c",
   "metadata": {},
   "outputs": [],
   "source": []
  }
 ],
 "metadata": {
  "kernelspec": {
   "display_name": "Python",
   "language": "python",
   "name": "conda-env-python-py"
  },
  "language_info": {
   "codemirror_mode": {
    "name": "ipython",
    "version": 3
   },
   "file_extension": ".py",
   "mimetype": "text/x-python",
   "name": "python",
   "nbconvert_exporter": "python",
   "pygments_lexer": "ipython3",
   "version": "3.7.12"
  }
 },
 "nbformat": 4,
 "nbformat_minor": 5
}
